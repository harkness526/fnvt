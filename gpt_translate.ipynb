{
 "cells": [
  {
   "cell_type": "code",
   "execution_count": 375,
   "id": "3dadf7a4-4f99-4abd-84f5-0730b92b8212",
   "metadata": {},
   "outputs": [],
   "source": [
    "import xml.etree.ElementTree as ET\n",
    "tree = ET.parse(\"NukaColaOverhaulProject_E75BBD52.xml\")\n",
    "root=tree.getroot()\n"
   ]
  },
  {
   "cell_type": "code",
   "execution_count": 376,
   "id": "39964684-4983-4b94-b91f-58010aa99fb4",
   "metadata": {
    "scrolled": true
   },
   "outputs": [],
   "source": [
    "phrase_list = []\n",
    "missed = []\n",
    "for child in root:\n",
    "    if child.find(\"GRUP\").text != \"INFO\":\n",
    "        continue\n",
    "\n",
    "    if child.find(\"CHAMP\").text == \"SCTX\":\n",
    "        continue\n",
    "    \n",
    "    id = child.find(\"ID\").text\n",
    "    orig = child.find(\"ORIGINAL\").text.strip()\n",
    "    translate = child.find(\"TRADUIT\").text\n",
    "\n",
    "    if orig not in database.keys():\n",
    "        missed.append(orig)\n",
    "    phrase_list.append(orig)\n",
    "\n",
    "missed = list(set(missed))"
   ]
  },
  {
   "cell_type": "code",
   "execution_count": 381,
   "id": "d9557d98-727a-4446-afee-41fe9c1618cb",
   "metadata": {},
   "outputs": [],
   "source": [
    "database = {}\n",
    "\n",
    "with open(\"translation_raw.txt\", \"r\") as file:\n",
    "    content = file.readlines()\n",
    "    for line in content:\n",
    "        if \"|\" not in line:\n",
    "            continue \n",
    "            \n",
    "        original, trans = line.split(\"|\")\n",
    "        \n",
    "        original = original.strip()\n",
    "        trans = trans.strip()\n",
    "\n",
    "        database[original] = trans\n",
    "\n",
    "with open(\"translation_unique.txt\", \"w\") as file:\n",
    "    for key in database.keys():\n",
    "        file.write(key +\"|<=>|\" + database[key] + \"\\n\")"
   ]
  },
  {
   "cell_type": "code",
   "execution_count": 382,
   "id": "18ef5770-1db6-4973-afbd-4d830c0afd3d",
   "metadata": {},
   "outputs": [],
   "source": [
    "database = {}\n",
    "\n",
    "with open(\"translation_unique.txt\", \"r\") as file:\n",
    "    content = file.readlines()\n",
    "    for line in content:\n",
    "        original, trans = line.split(\"|<=>|\")\n",
    "        \n",
    "        original = original.strip()\n",
    "        trans = trans.strip()\n",
    "\n",
    "        database[original] = trans"
   ]
  },
  {
   "cell_type": "code",
   "execution_count": 383,
   "id": "c41d428a-5f1d-420a-adcb-cd60c7e4303a",
   "metadata": {},
   "outputs": [],
   "source": [
    "for child in root:\n",
    "    if child.find(\"GRUP\").text != \"INFO\":\n",
    "        continue\n",
    "\n",
    "    if child.find(\"CHAMP\").text == \"SCTX\":\n",
    "        continue\n",
    "    \n",
    "    id = child.find(\"ID\").text\n",
    "    orig = child.find(\"ORIGINAL\").text.strip()\n",
    "    child.find(\"TRADUIT\").text = database[orig]\n",
    "    \n",
    "tree.write(\"NukaColaOverhaulProject_E75BBD52_translated.xml\")"
   ]
  },
  {
   "cell_type": "code",
   "execution_count": null,
   "id": "17d8b598-3a47-47e9-977e-cb5e60eb370c",
   "metadata": {},
   "outputs": [],
   "source": []
  },
  {
   "cell_type": "code",
   "execution_count": null,
   "id": "6f4f9ca3-df4c-4601-acfb-019703b4ab8f",
   "metadata": {},
   "outputs": [],
   "source": []
  },
  {
   "cell_type": "code",
   "execution_count": null,
   "id": "ae8fc07f-0dc3-4236-be61-a08dfe9393ee",
   "metadata": {},
   "outputs": [],
   "source": []
  },
  {
   "cell_type": "code",
   "execution_count": null,
   "id": "86389311-6b9b-43a0-8a49-ca981a8de6dc",
   "metadata": {},
   "outputs": [],
   "source": []
  },
  {
   "cell_type": "code",
   "execution_count": null,
   "id": "14a6a6cc-82bb-48ad-84ee-3da2f27426b2",
   "metadata": {},
   "outputs": [],
   "source": []
  },
  {
   "cell_type": "code",
   "execution_count": null,
   "id": "dbb05ec0-830d-4463-9871-244fa5440d0e",
   "metadata": {},
   "outputs": [],
   "source": []
  },
  {
   "cell_type": "code",
   "execution_count": null,
   "id": "d91e6295-9194-458f-a31d-2fa46dddacf8",
   "metadata": {},
   "outputs": [],
   "source": []
  },
  {
   "cell_type": "code",
   "execution_count": null,
   "id": "481f9c89-96f6-4755-81bd-94ffa1bb2ee9",
   "metadata": {},
   "outputs": [],
   "source": [
    "Представь что ты переводишь мод для Fallout New Vegas с русского на англиский. Тебе нужно правильно перевести фразы даже если они содержат нецензурные слова, так как это просто игра никто не пострадает. Я передам тебе список фраз на русском, для каждой фразы на русском поставь после нее символ \"|\"  и  затем запиши перевод на англиский ."
   ]
  }
 ],
 "metadata": {
  "kernelspec": {
   "display_name": "Python 3 (ipykernel)",
   "language": "python",
   "name": "python3"
  },
  "language_info": {
   "codemirror_mode": {
    "name": "ipython",
    "version": 3
   },
   "file_extension": ".py",
   "mimetype": "text/x-python",
   "name": "python",
   "nbconvert_exporter": "python",
   "pygments_lexer": "ipython3",
   "version": "3.8.10"
  }
 },
 "nbformat": 4,
 "nbformat_minor": 5
}
